{
  "nbformat": 4,
  "nbformat_minor": 0,
  "metadata": {
    "colab": {
      "name": "Y1T01 - Primes, Highest Common Factor and Lowest Common Multiple.ipynb",
      "provenance": [],
      "collapsed_sections": [],
      "include_colab_link": true
    },
    "kernelspec": {
      "name": "python3",
      "display_name": "Python 3"
    }
  },
  "cells": [
    {
      "cell_type": "markdown",
      "metadata": {
        "id": "view-in-github",
        "colab_type": "text"
      },
      "source": [
        "<a href=\"https://colab.research.google.com/github/dhsgisc/2019/blob/master/Y1T01_Primes%2C_Highest_Common_Factor_and_Lowest_Common_Multiple.ipynb\" target=\"_parent\"><img src=\"https://colab.research.google.com/assets/colab-badge.svg\" alt=\"Open In Colab\"/></a>"
      ]
    },
    {
      "cell_type": "code",
      "metadata": {
        "id": "0UvwnTlW3lPI",
        "colab_type": "code",
        "outputId": "ead6d6ac-efc2-4a9d-9d78-214930e0825a",
        "colab": {
          "base_uri": "https://localhost:8080/",
          "height": 34
        }
      },
      "source": [
        "# What are the factors of 18?\n",
        "num = 18\n",
        "for i in range(1, 19):\n",
        "  if num % i == 0:\n",
        "    print(i, end=' ')"
      ],
      "execution_count": 0,
      "outputs": [
        {
          "output_type": "stream",
          "text": [
            "1 2 3 6 9 18 "
          ],
          "name": "stdout"
        }
      ]
    },
    {
      "cell_type": "code",
      "metadata": {
        "id": "U_7M5xFP5zjT",
        "colab_type": "code",
        "outputId": "41910dcd-e8a7-412d-aa56-0321b50603e9",
        "colab": {
          "base_uri": "https://localhost:8080/",
          "height": 51
        }
      },
      "source": [
        "# Is num an integer?\n",
        "num = 123\n",
        "print(type(num))\n",
        "\n",
        "num = 3.21\n",
        "print(type(num))"
      ],
      "execution_count": 0,
      "outputs": [
        {
          "output_type": "stream",
          "text": [
            "<class 'int'>\n",
            "<class 'float'>\n"
          ],
          "name": "stdout"
        }
      ]
    },
    {
      "cell_type": "code",
      "metadata": {
        "id": "0Uqh8DTo4UVL",
        "colab_type": "code",
        "outputId": "a76133c2-e962-4719-8648-fdce866fa7e2",
        "colab": {
          "base_uri": "https://localhost:8080/",
          "height": 54
        }
      },
      "source": [
        "# What are the even numbers from 1 to num?\n",
        "num = 123\n",
        "for i in range(1, num+1):\n",
        "  if i % 2 == 0:\n",
        "    print(i, end=' ')"
      ],
      "execution_count": 0,
      "outputs": [
        {
          "output_type": "stream",
          "text": [
            "2 4 6 8 10 12 14 16 18 20 22 24 26 28 30 32 34 36 38 40 42 44 46 48 50 52 54 56 58 60 62 64 66 68 70 72 74 76 78 80 82 84 86 88 90 92 94 96 98 100 102 104 106 108 110 112 114 116 118 120 122 "
          ],
          "name": "stdout"
        }
      ]
    },
    {
      "cell_type": "code",
      "metadata": {
        "colab_type": "code",
        "outputId": "edd261e4-2821-4d26-c081-976810ada14c",
        "id": "IAsYn-2t44r-",
        "colab": {
          "base_uri": "https://localhost:8080/",
          "height": 54
        }
      },
      "source": [
        "# What are the odd numbers from 1 to num?\n",
        "num = 123\n",
        "for i in range(1, num+1):\n",
        "  if i % 2 == 1: # or != 0\n",
        "    print(i, end=' ')"
      ],
      "execution_count": 0,
      "outputs": [
        {
          "output_type": "stream",
          "text": [
            "1 3 5 7 9 11 13 15 17 19 21 23 25 27 29 31 33 35 37 39 41 43 45 47 49 51 53 55 57 59 61 63 65 67 69 71 73 75 77 79 81 83 85 87 89 91 93 95 97 99 101 103 105 107 109 111 113 115 117 119 121 123 "
          ],
          "name": "stdout"
        }
      ]
    },
    {
      "cell_type": "code",
      "metadata": {
        "id": "lG1z3HIW5Asj",
        "colab_type": "code",
        "outputId": "c0659fdc-4bff-4e53-fb57-9a525421206a",
        "colab": {
          "base_uri": "https://localhost:8080/",
          "height": 34
        }
      },
      "source": [
        "# Is num a prime number? A prime number is an integer with exactly 2 different factors, 1 and itself.\n",
        "num = 61\n",
        "\n",
        "prime = True\n",
        "for i in range (2,num):\n",
        "  if num % i == 0:\n",
        "    prime = False\n",
        "  \n",
        "print(prime)"
      ],
      "execution_count": 0,
      "outputs": [
        {
          "output_type": "stream",
          "text": [
            "True\n"
          ],
          "name": "stdout"
        }
      ]
    },
    {
      "cell_type": "code",
      "metadata": {
        "id": "2ThEEwQy5JyR",
        "colab_type": "code",
        "outputId": "43937327-ff5a-4d9d-82c3-ed281c7d6872",
        "colab": {
          "base_uri": "https://localhost:8080/",
          "height": 34
        }
      },
      "source": [
        "# Is num a composite number? A composite number is an integer with more than 2 different factors / is a product of at least 2 primes.\n",
        "num = 61\n",
        "\n",
        "prime = True\n",
        "for i in range (2,num-1):\n",
        "  if num % i == 0:\n",
        "    prime = False\n",
        "  \n",
        "print(not(prime))\n"
      ],
      "execution_count": 0,
      "outputs": [
        {
          "output_type": "stream",
          "text": [
            "False\n"
          ],
          "name": "stdout"
        }
      ]
    },
    {
      "cell_type": "code",
      "metadata": {
        "id": "q1-PiSXx6Dsp",
        "colab_type": "code",
        "colab": {}
      },
      "source": [
        "# Implement the Sieve of Erathosthenes for numbers between 1 to 100.\n"
      ],
      "execution_count": 0,
      "outputs": []
    },
    {
      "cell_type": "code",
      "metadata": {
        "id": "DFBfeAF46OOg",
        "colab_type": "code",
        "colab": {}
      },
      "source": [
        "# How about from 20 to 567? \n"
      ],
      "execution_count": 0,
      "outputs": []
    },
    {
      "cell_type": "code",
      "metadata": {
        "id": "iv5rhAce6cvb",
        "colab_type": "code",
        "colab": {}
      },
      "source": [
        "# What is the prime number less than num?\n"
      ],
      "execution_count": 0,
      "outputs": []
    },
    {
      "cell_type": "code",
      "metadata": {
        "id": "hBd-g1it6yQq",
        "colab_type": "code",
        "colab": {}
      },
      "source": [
        "# What is the prime number greater than num?\n"
      ],
      "execution_count": 0,
      "outputs": []
    },
    {
      "cell_type": "code",
      "metadata": {
        "id": "U5sd9SVv64d0",
        "colab_type": "code",
        "colab": {}
      },
      "source": [
        "# What is the kth prime number?\n"
      ],
      "execution_count": 0,
      "outputs": []
    },
    {
      "cell_type": "code",
      "metadata": {
        "id": "dIUPzFRk7Mib",
        "colab_type": "code",
        "colab": {}
      },
      "source": [
        "# If a and b are integers such that a * b = 17, find the value of a + b.\n"
      ],
      "execution_count": 0,
      "outputs": []
    },
    {
      "cell_type": "code",
      "metadata": {
        "id": "q22B0M4F7bdJ",
        "colab_type": "code",
        "colab": {}
      },
      "source": [
        "# If a and b are integers such that a * b = 18, find the possible values of a + b.\n"
      ],
      "execution_count": 0,
      "outputs": []
    },
    {
      "cell_type": "code",
      "metadata": {
        "id": "C36RG2Cb7ky7",
        "colab_type": "code",
        "colab": {}
      },
      "source": [
        "# The process of expressing a number as a product of its prime factors is called prime factorisation.\n",
        "# Express 18 as a prime factorisation."
      ],
      "execution_count": 0,
      "outputs": []
    }
  ]
}